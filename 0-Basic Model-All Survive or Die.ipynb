{
 "cells": [
  {
   "cell_type": "markdown",
   "metadata": {},
   "source": [
    "# The Most Basic-est Model of Them All\n",
    "\n",
    "They all survive"
   ]
  },
  {
   "cell_type": "code",
   "execution_count": 21,
   "metadata": {
    "collapsed": true
   },
   "outputs": [],
   "source": [
    "import csv as csv\n",
    "import numpy as np"
   ]
  },
  {
   "cell_type": "markdown",
   "metadata": {},
   "source": [
    "## The optimistic model: They All Survive"
   ]
  },
  {
   "cell_type": "code",
   "execution_count": 22,
   "metadata": {
    "collapsed": false
   },
   "outputs": [],
   "source": [
    "test_file        = open('./data/test.csv', 'rb') # Open the test data\n",
    "test_file_object = csv.reader(test_file)\n",
    "header           = test_file_object.next()"
   ]
  },
  {
   "cell_type": "code",
   "execution_count": 23,
   "metadata": {
    "collapsed": false
   },
   "outputs": [
    {
     "data": {
      "text/plain": [
       "['PassengerId',\n",
       " 'Pclass',\n",
       " 'Name',\n",
       " 'Sex',\n",
       " 'Age',\n",
       " 'SibSp',\n",
       " 'Parch',\n",
       " 'Ticket',\n",
       " 'Fare',\n",
       " 'Cabin',\n",
       " 'Embarked']"
      ]
     },
     "execution_count": 23,
     "metadata": {},
     "output_type": "execute_result"
    }
   ],
   "source": [
    "header"
   ]
  },
  {
   "cell_type": "markdown",
   "metadata": {},
   "source": [
    "### Open a new model (.csv) file  to write to"
   ]
  },
  {
   "cell_type": "code",
   "execution_count": 24,
   "metadata": {
    "collapsed": true
   },
   "outputs": [],
   "source": [
    "predictions_file = open('./models/jfaPythonModel-allSurvive.csv', 'wb')\n",
    "predictions_file_object = csv.writer(predictions_file)"
   ]
  },
  {
   "cell_type": "markdown",
   "metadata": {},
   "source": [
    "### Write the columns header row"
   ]
  },
  {
   "cell_type": "code",
   "execution_count": 25,
   "metadata": {
    "collapsed": true
   },
   "outputs": [],
   "source": [
    "predictions_file_object.writerow(['PassengerID', 'Survived'])"
   ]
  },
  {
   "cell_type": "code",
   "execution_count": 26,
   "metadata": {
    "collapsed": false
   },
   "outputs": [],
   "source": [
    "for row in test_file_object:\n",
    "    predictions_file_object.writerow([row[0], \"1\"])"
   ]
  },
  {
   "cell_type": "code",
   "execution_count": 27,
   "metadata": {
    "collapsed": true
   },
   "outputs": [],
   "source": [
    "test_file.close()\n",
    "predictions_file.close()"
   ]
  },
  {
   "cell_type": "markdown",
   "metadata": {},
   "source": [
    "## Take a look at the resulting predictions"
   ]
  },
  {
   "cell_type": "code",
   "execution_count": 17,
   "metadata": {
    "collapsed": false
   },
   "outputs": [],
   "source": [
    "output_predictions_file        = open('./models/jfaPythonModel-allSurvive.csv', 'rb')\n",
    "output_predictions_file_object = csv.reader(output_predictions_file)\n",
    "data                           = []"
   ]
  },
  {
   "cell_type": "code",
   "execution_count": 18,
   "metadata": {
    "collapsed": true
   },
   "outputs": [],
   "source": [
    "for row in output_predictions_file_object:\n",
    "    data.append(row[0:])\n",
    "data = np.array(data)"
   ]
  },
  {
   "cell_type": "code",
   "execution_count": 19,
   "metadata": {
    "collapsed": false
   },
   "outputs": [
    {
     "data": {
      "text/plain": [
       "(418, 2)"
      ]
     },
     "execution_count": 19,
     "metadata": {},
     "output_type": "execute_result"
    }
   ],
   "source": [
    "data.shape"
   ]
  },
  {
   "cell_type": "code",
   "execution_count": 20,
   "metadata": {
    "collapsed": false
   },
   "outputs": [
    {
     "data": {
      "text/plain": [
       "array([['PassengerID', 'Survived'],\n",
       "       ['893', '1'],\n",
       "       ['894', '1'],\n",
       "       ['895', '1'],\n",
       "       ['896', '1'],\n",
       "       ['897', '1'],\n",
       "       ['898', '1'],\n",
       "       ['899', '1'],\n",
       "       ['900', '1'],\n",
       "       ['901', '1'],\n",
       "       ['902', '1'],\n",
       "       ['903', '1'],\n",
       "       ['904', '1'],\n",
       "       ['905', '1'],\n",
       "       ['906', '1'],\n",
       "       ['907', '1'],\n",
       "       ['908', '1'],\n",
       "       ['909', '1'],\n",
       "       ['910', '1'],\n",
       "       ['911', '1'],\n",
       "       ['912', '1'],\n",
       "       ['913', '1'],\n",
       "       ['914', '1'],\n",
       "       ['915', '1'],\n",
       "       ['916', '1'],\n",
       "       ['917', '1'],\n",
       "       ['918', '1'],\n",
       "       ['919', '1'],\n",
       "       ['920', '1'],\n",
       "       ['921', '1'],\n",
       "       ['922', '1'],\n",
       "       ['923', '1'],\n",
       "       ['924', '1'],\n",
       "       ['925', '1'],\n",
       "       ['926', '1'],\n",
       "       ['927', '1'],\n",
       "       ['928', '1'],\n",
       "       ['929', '1'],\n",
       "       ['930', '1'],\n",
       "       ['931', '1'],\n",
       "       ['932', '1'],\n",
       "       ['933', '1'],\n",
       "       ['934', '1'],\n",
       "       ['935', '1'],\n",
       "       ['936', '1'],\n",
       "       ['937', '1'],\n",
       "       ['938', '1'],\n",
       "       ['939', '1'],\n",
       "       ['940', '1'],\n",
       "       ['941', '1'],\n",
       "       ['942', '1'],\n",
       "       ['943', '1'],\n",
       "       ['944', '1'],\n",
       "       ['945', '1'],\n",
       "       ['946', '1'],\n",
       "       ['947', '1'],\n",
       "       ['948', '1'],\n",
       "       ['949', '1'],\n",
       "       ['950', '1'],\n",
       "       ['951', '1'],\n",
       "       ['952', '1'],\n",
       "       ['953', '1'],\n",
       "       ['954', '1'],\n",
       "       ['955', '1'],\n",
       "       ['956', '1'],\n",
       "       ['957', '1'],\n",
       "       ['958', '1'],\n",
       "       ['959', '1'],\n",
       "       ['960', '1'],\n",
       "       ['961', '1'],\n",
       "       ['962', '1'],\n",
       "       ['963', '1'],\n",
       "       ['964', '1'],\n",
       "       ['965', '1'],\n",
       "       ['966', '1'],\n",
       "       ['967', '1'],\n",
       "       ['968', '1'],\n",
       "       ['969', '1'],\n",
       "       ['970', '1'],\n",
       "       ['971', '1'],\n",
       "       ['972', '1'],\n",
       "       ['973', '1'],\n",
       "       ['974', '1'],\n",
       "       ['975', '1'],\n",
       "       ['976', '1'],\n",
       "       ['977', '1'],\n",
       "       ['978', '1'],\n",
       "       ['979', '1'],\n",
       "       ['980', '1'],\n",
       "       ['981', '1'],\n",
       "       ['982', '1'],\n",
       "       ['983', '1'],\n",
       "       ['984', '1'],\n",
       "       ['985', '1'],\n",
       "       ['986', '1'],\n",
       "       ['987', '1'],\n",
       "       ['988', '1'],\n",
       "       ['989', '1'],\n",
       "       ['990', '1'],\n",
       "       ['991', '1'],\n",
       "       ['992', '1'],\n",
       "       ['993', '1'],\n",
       "       ['994', '1'],\n",
       "       ['995', '1'],\n",
       "       ['996', '1'],\n",
       "       ['997', '1'],\n",
       "       ['998', '1'],\n",
       "       ['999', '1'],\n",
       "       ['1000', '1'],\n",
       "       ['1001', '1'],\n",
       "       ['1002', '1'],\n",
       "       ['1003', '1'],\n",
       "       ['1004', '1'],\n",
       "       ['1005', '1'],\n",
       "       ['1006', '1'],\n",
       "       ['1007', '1'],\n",
       "       ['1008', '1'],\n",
       "       ['1009', '1'],\n",
       "       ['1010', '1'],\n",
       "       ['1011', '1'],\n",
       "       ['1012', '1'],\n",
       "       ['1013', '1'],\n",
       "       ['1014', '1'],\n",
       "       ['1015', '1'],\n",
       "       ['1016', '1'],\n",
       "       ['1017', '1'],\n",
       "       ['1018', '1'],\n",
       "       ['1019', '1'],\n",
       "       ['1020', '1'],\n",
       "       ['1021', '1'],\n",
       "       ['1022', '1'],\n",
       "       ['1023', '1'],\n",
       "       ['1024', '1'],\n",
       "       ['1025', '1'],\n",
       "       ['1026', '1'],\n",
       "       ['1027', '1'],\n",
       "       ['1028', '1'],\n",
       "       ['1029', '1'],\n",
       "       ['1030', '1'],\n",
       "       ['1031', '1'],\n",
       "       ['1032', '1'],\n",
       "       ['1033', '1'],\n",
       "       ['1034', '1'],\n",
       "       ['1035', '1'],\n",
       "       ['1036', '1'],\n",
       "       ['1037', '1'],\n",
       "       ['1038', '1'],\n",
       "       ['1039', '1'],\n",
       "       ['1040', '1'],\n",
       "       ['1041', '1'],\n",
       "       ['1042', '1'],\n",
       "       ['1043', '1'],\n",
       "       ['1044', '1'],\n",
       "       ['1045', '1'],\n",
       "       ['1046', '1'],\n",
       "       ['1047', '1'],\n",
       "       ['1048', '1'],\n",
       "       ['1049', '1'],\n",
       "       ['1050', '1'],\n",
       "       ['1051', '1'],\n",
       "       ['1052', '1'],\n",
       "       ['1053', '1'],\n",
       "       ['1054', '1'],\n",
       "       ['1055', '1'],\n",
       "       ['1056', '1'],\n",
       "       ['1057', '1'],\n",
       "       ['1058', '1'],\n",
       "       ['1059', '1'],\n",
       "       ['1060', '1'],\n",
       "       ['1061', '1'],\n",
       "       ['1062', '1'],\n",
       "       ['1063', '1'],\n",
       "       ['1064', '1'],\n",
       "       ['1065', '1'],\n",
       "       ['1066', '1'],\n",
       "       ['1067', '1'],\n",
       "       ['1068', '1'],\n",
       "       ['1069', '1'],\n",
       "       ['1070', '1'],\n",
       "       ['1071', '1'],\n",
       "       ['1072', '1'],\n",
       "       ['1073', '1'],\n",
       "       ['1074', '1'],\n",
       "       ['1075', '1'],\n",
       "       ['1076', '1'],\n",
       "       ['1077', '1'],\n",
       "       ['1078', '1'],\n",
       "       ['1079', '1'],\n",
       "       ['1080', '1'],\n",
       "       ['1081', '1'],\n",
       "       ['1082', '1'],\n",
       "       ['1083', '1'],\n",
       "       ['1084', '1'],\n",
       "       ['1085', '1'],\n",
       "       ['1086', '1'],\n",
       "       ['1087', '1'],\n",
       "       ['1088', '1'],\n",
       "       ['1089', '1'],\n",
       "       ['1090', '1'],\n",
       "       ['1091', '1'],\n",
       "       ['1092', '1'],\n",
       "       ['1093', '1'],\n",
       "       ['1094', '1'],\n",
       "       ['1095', '1'],\n",
       "       ['1096', '1'],\n",
       "       ['1097', '1'],\n",
       "       ['1098', '1'],\n",
       "       ['1099', '1'],\n",
       "       ['1100', '1'],\n",
       "       ['1101', '1'],\n",
       "       ['1102', '1'],\n",
       "       ['1103', '1'],\n",
       "       ['1104', '1'],\n",
       "       ['1105', '1'],\n",
       "       ['1106', '1'],\n",
       "       ['1107', '1'],\n",
       "       ['1108', '1'],\n",
       "       ['1109', '1'],\n",
       "       ['1110', '1'],\n",
       "       ['1111', '1'],\n",
       "       ['1112', '1'],\n",
       "       ['1113', '1'],\n",
       "       ['1114', '1'],\n",
       "       ['1115', '1'],\n",
       "       ['1116', '1'],\n",
       "       ['1117', '1'],\n",
       "       ['1118', '1'],\n",
       "       ['1119', '1'],\n",
       "       ['1120', '1'],\n",
       "       ['1121', '1'],\n",
       "       ['1122', '1'],\n",
       "       ['1123', '1'],\n",
       "       ['1124', '1'],\n",
       "       ['1125', '1'],\n",
       "       ['1126', '1'],\n",
       "       ['1127', '1'],\n",
       "       ['1128', '1'],\n",
       "       ['1129', '1'],\n",
       "       ['1130', '1'],\n",
       "       ['1131', '1'],\n",
       "       ['1132', '1'],\n",
       "       ['1133', '1'],\n",
       "       ['1134', '1'],\n",
       "       ['1135', '1'],\n",
       "       ['1136', '1'],\n",
       "       ['1137', '1'],\n",
       "       ['1138', '1'],\n",
       "       ['1139', '1'],\n",
       "       ['1140', '1'],\n",
       "       ['1141', '1'],\n",
       "       ['1142', '1'],\n",
       "       ['1143', '1'],\n",
       "       ['1144', '1'],\n",
       "       ['1145', '1'],\n",
       "       ['1146', '1'],\n",
       "       ['1147', '1'],\n",
       "       ['1148', '1'],\n",
       "       ['1149', '1'],\n",
       "       ['1150', '1'],\n",
       "       ['1151', '1'],\n",
       "       ['1152', '1'],\n",
       "       ['1153', '1'],\n",
       "       ['1154', '1'],\n",
       "       ['1155', '1'],\n",
       "       ['1156', '1'],\n",
       "       ['1157', '1'],\n",
       "       ['1158', '1'],\n",
       "       ['1159', '1'],\n",
       "       ['1160', '1'],\n",
       "       ['1161', '1'],\n",
       "       ['1162', '1'],\n",
       "       ['1163', '1'],\n",
       "       ['1164', '1'],\n",
       "       ['1165', '1'],\n",
       "       ['1166', '1'],\n",
       "       ['1167', '1'],\n",
       "       ['1168', '1'],\n",
       "       ['1169', '1'],\n",
       "       ['1170', '1'],\n",
       "       ['1171', '1'],\n",
       "       ['1172', '1'],\n",
       "       ['1173', '1'],\n",
       "       ['1174', '1'],\n",
       "       ['1175', '1'],\n",
       "       ['1176', '1'],\n",
       "       ['1177', '1'],\n",
       "       ['1178', '1'],\n",
       "       ['1179', '1'],\n",
       "       ['1180', '1'],\n",
       "       ['1181', '1'],\n",
       "       ['1182', '1'],\n",
       "       ['1183', '1'],\n",
       "       ['1184', '1'],\n",
       "       ['1185', '1'],\n",
       "       ['1186', '1'],\n",
       "       ['1187', '1'],\n",
       "       ['1188', '1'],\n",
       "       ['1189', '1'],\n",
       "       ['1190', '1'],\n",
       "       ['1191', '1'],\n",
       "       ['1192', '1'],\n",
       "       ['1193', '1'],\n",
       "       ['1194', '1'],\n",
       "       ['1195', '1'],\n",
       "       ['1196', '1'],\n",
       "       ['1197', '1'],\n",
       "       ['1198', '1'],\n",
       "       ['1199', '1'],\n",
       "       ['1200', '1'],\n",
       "       ['1201', '1'],\n",
       "       ['1202', '1'],\n",
       "       ['1203', '1'],\n",
       "       ['1204', '1'],\n",
       "       ['1205', '1'],\n",
       "       ['1206', '1'],\n",
       "       ['1207', '1'],\n",
       "       ['1208', '1'],\n",
       "       ['1209', '1'],\n",
       "       ['1210', '1'],\n",
       "       ['1211', '1'],\n",
       "       ['1212', '1'],\n",
       "       ['1213', '1'],\n",
       "       ['1214', '1'],\n",
       "       ['1215', '1'],\n",
       "       ['1216', '1'],\n",
       "       ['1217', '1'],\n",
       "       ['1218', '1'],\n",
       "       ['1219', '1'],\n",
       "       ['1220', '1'],\n",
       "       ['1221', '1'],\n",
       "       ['1222', '1'],\n",
       "       ['1223', '1'],\n",
       "       ['1224', '1'],\n",
       "       ['1225', '1'],\n",
       "       ['1226', '1'],\n",
       "       ['1227', '1'],\n",
       "       ['1228', '1'],\n",
       "       ['1229', '1'],\n",
       "       ['1230', '1'],\n",
       "       ['1231', '1'],\n",
       "       ['1232', '1'],\n",
       "       ['1233', '1'],\n",
       "       ['1234', '1'],\n",
       "       ['1235', '1'],\n",
       "       ['1236', '1'],\n",
       "       ['1237', '1'],\n",
       "       ['1238', '1'],\n",
       "       ['1239', '1'],\n",
       "       ['1240', '1'],\n",
       "       ['1241', '1'],\n",
       "       ['1242', '1'],\n",
       "       ['1243', '1'],\n",
       "       ['1244', '1'],\n",
       "       ['1245', '1'],\n",
       "       ['1246', '1'],\n",
       "       ['1247', '1'],\n",
       "       ['1248', '1'],\n",
       "       ['1249', '1'],\n",
       "       ['1250', '1'],\n",
       "       ['1251', '1'],\n",
       "       ['1252', '1'],\n",
       "       ['1253', '1'],\n",
       "       ['1254', '1'],\n",
       "       ['1255', '1'],\n",
       "       ['1256', '1'],\n",
       "       ['1257', '1'],\n",
       "       ['1258', '1'],\n",
       "       ['1259', '1'],\n",
       "       ['1260', '1'],\n",
       "       ['1261', '1'],\n",
       "       ['1262', '1'],\n",
       "       ['1263', '1'],\n",
       "       ['1264', '1'],\n",
       "       ['1265', '1'],\n",
       "       ['1266', '1'],\n",
       "       ['1267', '1'],\n",
       "       ['1268', '1'],\n",
       "       ['1269', '1'],\n",
       "       ['1270', '1'],\n",
       "       ['1271', '1'],\n",
       "       ['1272', '1'],\n",
       "       ['1273', '1'],\n",
       "       ['1274', '1'],\n",
       "       ['1275', '1'],\n",
       "       ['1276', '1'],\n",
       "       ['1277', '1'],\n",
       "       ['1278', '1'],\n",
       "       ['1279', '1'],\n",
       "       ['1280', '1'],\n",
       "       ['1281', '1'],\n",
       "       ['1282', '1'],\n",
       "       ['1283', '1'],\n",
       "       ['1284', '1'],\n",
       "       ['1285', '1'],\n",
       "       ['1286', '1'],\n",
       "       ['1287', '1'],\n",
       "       ['1288', '1'],\n",
       "       ['1289', '1'],\n",
       "       ['1290', '1'],\n",
       "       ['1291', '1'],\n",
       "       ['1292', '1'],\n",
       "       ['1293', '1'],\n",
       "       ['1294', '1'],\n",
       "       ['1295', '1'],\n",
       "       ['1296', '1'],\n",
       "       ['1297', '1'],\n",
       "       ['1298', '1'],\n",
       "       ['1299', '1'],\n",
       "       ['1300', '1'],\n",
       "       ['1301', '1'],\n",
       "       ['1302', '1'],\n",
       "       ['1303', '1'],\n",
       "       ['1304', '1'],\n",
       "       ['1305', '1'],\n",
       "       ['1306', '1'],\n",
       "       ['1307', '1'],\n",
       "       ['1308', '1'],\n",
       "       ['1309', '1']], \n",
       "      dtype='|S11')"
      ]
     },
     "execution_count": 20,
     "metadata": {},
     "output_type": "execute_result"
    }
   ],
   "source": [
    "data"
   ]
  },
  {
   "cell_type": "markdown",
   "metadata": {},
   "source": [
    "## Kaggle Submission Results"
   ]
  },
  {
   "cell_type": "markdown",
   "metadata": {},
   "source": [
    "> Your submission scored **0.37321**\n",
    "\n",
    "Only 37% correct. Looks like we can do better!"
   ]
  },
  {
   "cell_type": "markdown",
   "metadata": {},
   "source": [
    "# The Overly Pessimistic Model\n",
    "Let's create a model which predicts that all Titanic passengers die."
   ]
  },
  {
   "cell_type": "markdown",
   "metadata": {},
   "source": [
    "First open up the test data"
   ]
  },
  {
   "cell_type": "code",
   "execution_count": 74,
   "metadata": {
    "collapsed": true
   },
   "outputs": [],
   "source": [
    "test_data = open('./data/test.csv')\n",
    "test_data_object = csv.reader(test_data)"
   ]
  },
  {
   "cell_type": "markdown",
   "metadata": {},
   "source": [
    "Skip the first row because it's the header row"
   ]
  },
  {
   "cell_type": "code",
   "execution_count": 75,
   "metadata": {
    "collapsed": false
   },
   "outputs": [
    {
     "data": {
      "text/plain": [
       "['PassengerId',\n",
       " 'Pclass',\n",
       " 'Name',\n",
       " 'Sex',\n",
       " 'Age',\n",
       " 'SibSp',\n",
       " 'Parch',\n",
       " 'Ticket',\n",
       " 'Fare',\n",
       " 'Cabin',\n",
       " 'Embarked']"
      ]
     },
     "execution_count": 75,
     "metadata": {},
     "output_type": "execute_result"
    }
   ],
   "source": [
    "header = test_data_object.next()\n",
    "header"
   ]
  },
  {
   "cell_type": "markdown",
   "metadata": {},
   "source": [
    "Let's open up an output prediction model/csv-file"
   ]
  },
  {
   "cell_type": "code",
   "execution_count": 76,
   "metadata": {
    "collapsed": true
   },
   "outputs": [],
   "source": [
    "predictions_file = open('./models/jfaPythonModel-allDie.csv', 'wb')\n",
    "predictions_file_object = csv.writer(predictions_file)"
   ]
  },
  {
   "cell_type": "raw",
   "metadata": {},
   "source": [
    "Write the columns header row"
   ]
  },
  {
   "cell_type": "code",
   "execution_count": 77,
   "metadata": {
    "collapsed": true
   },
   "outputs": [],
   "source": [
    "predictions_file_object.writerow(['PassengerID', 'Survived'])"
   ]
  },
  {
   "cell_type": "markdown",
   "metadata": {},
   "source": [
    "Write in the prediction model that they all died"
   ]
  },
  {
   "cell_type": "code",
   "execution_count": 78,
   "metadata": {
    "collapsed": true
   },
   "outputs": [],
   "source": [
    "for passenger in test_data_object:\n",
    "    predictions_file_object.writerow([passenger[0], \"0\"])"
   ]
  },
  {
   "cell_type": "markdown",
   "metadata": {},
   "source": [
    "Close the test data file and the predicitons file"
   ]
  },
  {
   "cell_type": "code",
   "execution_count": 79,
   "metadata": {
    "collapsed": true
   },
   "outputs": [],
   "source": [
    "test_data.close()\n",
    "predictions_file.close()"
   ]
  },
  {
   "cell_type": "markdown",
   "metadata": {},
   "source": [
    "## Take a look at the output predictions"
   ]
  },
  {
   "cell_type": "code",
   "execution_count": 80,
   "metadata": {
    "collapsed": true
   },
   "outputs": [],
   "source": [
    "output_predictions_file = open('./models/jfaPythonModel-allDie.csv', 'rb')\n",
    "output_predictions_file_object = csv.reader(output_predictions_file)"
   ]
  },
  {
   "cell_type": "code",
   "execution_count": 81,
   "metadata": {
    "collapsed": true
   },
   "outputs": [],
   "source": [
    "data = []\n",
    "for passenger in output_predictions_file_object:\n",
    "    data.append(passenger[0:])\n",
    "data = np.array(data)"
   ]
  },
  {
   "cell_type": "code",
   "execution_count": 82,
   "metadata": {
    "collapsed": false
   },
   "outputs": [
    {
     "data": {
      "text/plain": [
       "(419, 2)"
      ]
     },
     "execution_count": 82,
     "metadata": {},
     "output_type": "execute_result"
    }
   ],
   "source": [
    "data.shape"
   ]
  },
  {
   "cell_type": "code",
   "execution_count": 83,
   "metadata": {
    "collapsed": true
   },
   "outputs": [],
   "source": [
    "output_predictions_file.close()"
   ]
  },
  {
   "cell_type": "markdown",
   "metadata": {},
   "source": [
    "## Results"
   ]
  },
  {
   "cell_type": "markdown",
   "metadata": {},
   "source": [
    "> Your submission scored **0.62679**.\n",
    "\n",
    "Quite an improvement predicting almost 63% correct. But we can do better"
   ]
  },
  {
   "cell_type": "code",
   "execution_count": null,
   "metadata": {
    "collapsed": true
   },
   "outputs": [],
   "source": []
  }
 ],
 "metadata": {
  "kernelspec": {
   "display_name": "Python 2",
   "language": "python",
   "name": "python2"
  },
  "language_info": {
   "codemirror_mode": {
    "name": "ipython",
    "version": 2
   },
   "file_extension": ".py",
   "mimetype": "text/x-python",
   "name": "python",
   "nbconvert_exporter": "python",
   "pygments_lexer": "ipython2",
   "version": "2.7.9"
  }
 },
 "nbformat": 4,
 "nbformat_minor": 0
}
